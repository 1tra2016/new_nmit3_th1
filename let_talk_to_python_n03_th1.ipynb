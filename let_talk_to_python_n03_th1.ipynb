{
 "cells": [
  {
   "cell_type": "markdown",
   "id": "d1877455",
   "metadata": {},
   "source": [
    "# Let talk to Python"
   ]
  },
  {
   "cell_type": "markdown",
   "id": "7eb789f7",
   "metadata": {},
   "source": [
    "## Math (Các phép toán)\n",
    "\n",
    "## Operators (Các toán tử)\n",
    "- Add (cộng): +\n",
    "- Subtract (trừ): -\n",
    "- Multiply (nhân): *\n",
    "- Divide (chia): /"
   ]
  },
  {
   "cell_type": "code",
   "execution_count": 1,
   "id": "0a7de1c4",
   "metadata": {},
   "outputs": [
    {
     "data": {
      "text/plain": [
       "14"
      ]
     },
     "execution_count": 1,
     "metadata": {},
     "output_type": "execute_result"
    }
   ],
   "source": [
    "1 + 2 + 5 +6"
   ]
  },
  {
   "cell_type": "code",
   "execution_count": 2,
   "id": "9e82447b",
   "metadata": {},
   "outputs": [
    {
     "data": {
      "text/plain": [
       "-2"
      ]
     },
     "execution_count": 2,
     "metadata": {},
     "output_type": "execute_result"
    }
   ],
   "source": [
    "4 -6"
   ]
  },
  {
   "cell_type": "code",
   "execution_count": 3,
   "id": "46d804f3",
   "metadata": {},
   "outputs": [
    {
     "data": {
      "text/plain": [
       "30"
      ]
     },
     "execution_count": 3,
     "metadata": {},
     "output_type": "execute_result"
    }
   ],
   "source": [
    "6 * 5"
   ]
  },
  {
   "cell_type": "code",
   "execution_count": 4,
   "id": "8e8a6fa1",
   "metadata": {},
   "outputs": [
    {
     "data": {
      "text/plain": [
       "3.0"
      ]
     },
     "execution_count": 4,
     "metadata": {},
     "output_type": "execute_result"
    }
   ],
   "source": [
    "6 / 2"
   ]
  },
  {
   "cell_type": "code",
   "execution_count": 5,
   "id": "d8fe52b6",
   "metadata": {},
   "outputs": [
    {
     "data": {
      "text/plain": [
       "7.199999999999999"
      ]
     },
     "execution_count": 5,
     "metadata": {},
     "output_type": "execute_result"
    }
   ],
   "source": [
    "10 + 3 * 2 / 5 - 4"
   ]
  },
  {
   "cell_type": "code",
   "execution_count": 8,
   "id": "f66e9e9b",
   "metadata": {},
   "outputs": [
    {
     "data": {
      "text/plain": [
       "0.30000000000000004"
      ]
     },
     "execution_count": 8,
     "metadata": {},
     "output_type": "execute_result"
    }
   ],
   "source": [
    "0.1 + 0.1 + 0.1"
   ]
  },
  {
   "cell_type": "code",
   "execution_count": 9,
   "id": "49baa288",
   "metadata": {},
   "outputs": [
    {
     "data": {
      "text/plain": [
       "int"
      ]
     },
     "execution_count": 9,
     "metadata": {},
     "output_type": "execute_result"
    }
   ],
   "source": [
    "type(3)"
   ]
  },
  {
   "cell_type": "code",
   "execution_count": 10,
   "id": "207b81ee",
   "metadata": {},
   "outputs": [
    {
     "data": {
      "text/plain": [
       "float"
      ]
     },
     "execution_count": 10,
     "metadata": {},
     "output_type": "execute_result"
    }
   ],
   "source": [
    "type(3.0)"
   ]
  },
  {
   "cell_type": "code",
   "execution_count": 11,
   "id": "6773632a",
   "metadata": {},
   "outputs": [
    {
     "data": {
      "text/plain": [
       "5.0"
      ]
     },
     "execution_count": 11,
     "metadata": {},
     "output_type": "execute_result"
    }
   ],
   "source": [
    "10 / 2"
   ]
  },
  {
   "cell_type": "markdown",
   "id": "e649fc4e",
   "metadata": {},
   "source": [
    "### Các phép so sánh (Comprision operators)\n",
    "\n",
    "- Bằng: ==\n",
    "- Khác: !=\n",
    "- Nhỏ hơn: <, Lớn hơn: >\n",
    "- Nhỏ hơn hoặc bằng: <=\n",
    "- Lớn hơn hoặc bằng: >="
   ]
  },
  {
   "cell_type": "code",
   "execution_count": 12,
   "id": "30289b73",
   "metadata": {},
   "outputs": [
    {
     "data": {
      "text/plain": [
       "True"
      ]
     },
     "execution_count": 12,
     "metadata": {},
     "output_type": "execute_result"
    }
   ],
   "source": [
    "10 < 5 + 6"
   ]
  },
  {
   "cell_type": "code",
   "execution_count": 13,
   "id": "54e2c55d",
   "metadata": {},
   "outputs": [
    {
     "data": {
      "text/plain": [
       "False"
      ]
     },
     "execution_count": 13,
     "metadata": {},
     "output_type": "execute_result"
    }
   ],
   "source": [
    "12 + 1 <= 12"
   ]
  },
  {
   "cell_type": "markdown",
   "id": "f3600eca",
   "metadata": {},
   "source": [
    "## Strings (Chuỗi)"
   ]
  },
  {
   "cell_type": "code",
   "execution_count": 14,
   "id": "efc508e6",
   "metadata": {},
   "outputs": [
    {
     "data": {
      "text/plain": [
       "'Hello'"
      ]
     },
     "execution_count": 14,
     "metadata": {},
     "output_type": "execute_result"
    }
   ],
   "source": [
    "\"Hello\""
   ]
  },
  {
   "cell_type": "code",
   "execution_count": 15,
   "id": "9b54461f",
   "metadata": {},
   "outputs": [
    {
     "data": {
      "text/plain": [
       "'Hello'"
      ]
     },
     "execution_count": 15,
     "metadata": {},
     "output_type": "execute_result"
    }
   ],
   "source": [
    "'Hello'"
   ]
  },
  {
   "cell_type": "code",
   "execution_count": 17,
   "id": "0dac30a1",
   "metadata": {},
   "outputs": [
    {
     "data": {
      "text/plain": [
       "'apple'"
      ]
     },
     "execution_count": 17,
     "metadata": {},
     "output_type": "execute_result"
    }
   ],
   "source": [
    "\"apple\""
   ]
  },
  {
   "cell_type": "code",
   "execution_count": 19,
   "id": "2469156c",
   "metadata": {},
   "outputs": [
    {
     "data": {
      "text/plain": [
       "\"What's for lunch?\""
      ]
     },
     "execution_count": 19,
     "metadata": {},
     "output_type": "execute_result"
    }
   ],
   "source": [
    "\"What's for lunch?\""
   ]
  },
  {
   "cell_type": "markdown",
   "id": "3aca6627",
   "metadata": {},
   "source": [
    "### String operators (Các phép toán với chuỗi)\n",
    "\n",
    "- Concatenation (Ghép chuỗi): +\n",
    "- Multiplication (Nhân chuỗi): *"
   ]
  },
  {
   "cell_type": "code",
   "execution_count": 20,
   "id": "1ae82abe",
   "metadata": {},
   "outputs": [
    {
     "data": {
      "text/plain": [
       "'HiThere!'"
      ]
     },
     "execution_count": 20,
     "metadata": {},
     "output_type": "execute_result"
    }
   ],
   "source": [
    "\"Hi\" + \"There!\""
   ]
  },
  {
   "cell_type": "code",
   "execution_count": 21,
   "id": "4d1b8574",
   "metadata": {},
   "outputs": [
    {
     "data": {
      "text/plain": [
       "'HahaHahaHahaHahaHahaHahaHahaHahaHahaHahaHahaHahaHahaHahaHahaHahaHahaHahaHahaHahaHahaHahaHahaHahaHahaHahaHahaHahaHahaHahaHahaHahaHahaHahaHahaHahaHahaHahaHahaHahaHahaHahaHahaHahaHahaHahaHahaHahaHahaHahaHahaHahaHahaHahaHahaHahaHahaHahaHahaHahaHahaHahaHahaHahaHahaHahaHahaHahaHahaHahaHahaHahaHahaHahaHahaHahaHahaHahaHahaHahaHahaHahaHahaHahaHahaHahaHahaHahaHahaHahaHahaHahaHahaHahaHahaHahaHahaHahaHahaHaha'"
      ]
     },
     "execution_count": 21,
     "metadata": {},
     "output_type": "execute_result"
    }
   ],
   "source": [
    "\"Haha\" * 100"
   ]
  },
  {
   "cell_type": "markdown",
   "id": "a523504f",
   "metadata": {},
   "source": [
    "### Indexes (chỉ mục)\n",
    "\n",
    "Vị trí của một ký tự trong chuỗi."
   ]
  },
  {
   "cell_type": "code",
   "execution_count": 22,
   "id": "764e1aab",
   "metadata": {},
   "outputs": [
    {
     "data": {
      "text/plain": [
       "'Hello'"
      ]
     },
     "execution_count": 22,
     "metadata": {},
     "output_type": "execute_result"
    }
   ],
   "source": [
    "\"Hello\""
   ]
  },
  {
   "cell_type": "code",
   "execution_count": 25,
   "id": "c308f741",
   "metadata": {},
   "outputs": [
    {
     "data": {
      "text/plain": [
       "'o'"
      ]
     },
     "execution_count": 25,
     "metadata": {},
     "output_type": "execute_result"
    }
   ],
   "source": [
    "\"Hello\"[4]"
   ]
  },
  {
   "cell_type": "code",
   "execution_count": 26,
   "id": "531c125e",
   "metadata": {},
   "outputs": [
    {
     "data": {
      "text/plain": [
       "'o'"
      ]
     },
     "execution_count": 26,
     "metadata": {},
     "output_type": "execute_result"
    }
   ],
   "source": [
    "\"Hello\"[-1]"
   ]
  },
  {
   "cell_type": "code",
   "execution_count": 27,
   "id": "3a3e6f39",
   "metadata": {},
   "outputs": [
    {
     "data": {
      "text/plain": [
       "'H'"
      ]
     },
     "execution_count": 27,
     "metadata": {},
     "output_type": "execute_result"
    }
   ],
   "source": [
    "\"Hello\"[-5]"
   ]
  },
  {
   "cell_type": "code",
   "execution_count": 28,
   "id": "dc6c3961",
   "metadata": {},
   "outputs": [
    {
     "data": {
      "text/plain": [
       "'Hell'"
      ]
     },
     "execution_count": 28,
     "metadata": {},
     "output_type": "execute_result"
    }
   ],
   "source": [
    "\"Hello\"[0:4]"
   ]
  },
  {
   "cell_type": "code",
   "execution_count": 29,
   "id": "431cee59",
   "metadata": {},
   "outputs": [
    {
     "data": {
      "text/plain": [
       "'Hl'"
      ]
     },
     "execution_count": 29,
     "metadata": {},
     "output_type": "execute_result"
    }
   ],
   "source": [
    "\"Hello\"[0:4:2]"
   ]
  },
  {
   "cell_type": "code",
   "execution_count": 30,
   "id": "b388fee1",
   "metadata": {},
   "outputs": [
    {
     "data": {
      "text/plain": [
       "'Hlo'"
      ]
     },
     "execution_count": 30,
     "metadata": {},
     "output_type": "execute_result"
    }
   ],
   "source": [
    "\"Hello\"[::2]"
   ]
  },
  {
   "cell_type": "code",
   "execution_count": 31,
   "id": "1bac6e4b",
   "metadata": {},
   "outputs": [
    {
     "data": {
      "text/plain": [
       "'olleH'"
      ]
     },
     "execution_count": 31,
     "metadata": {},
     "output_type": "execute_result"
    }
   ],
   "source": [
    "\"Hello\"[::-1]"
   ]
  },
  {
   "cell_type": "code",
   "execution_count": 32,
   "id": "d7d512b8",
   "metadata": {},
   "outputs": [
    {
     "data": {
      "text/plain": [
       "' '"
      ]
     },
     "execution_count": 32,
     "metadata": {},
     "output_type": "execute_result"
    }
   ],
   "source": [
    "\"Hello World\"[5]"
   ]
  },
  {
   "cell_type": "markdown",
   "id": "212232b2",
   "metadata": {},
   "source": [
    "## Variables (Biến số)"
   ]
  },
  {
   "cell_type": "code",
   "execution_count": 33,
   "id": "d787851a",
   "metadata": {},
   "outputs": [
    {
     "data": {
      "text/plain": [
       "144"
      ]
     },
     "execution_count": 33,
     "metadata": {},
     "output_type": "execute_result"
    }
   ],
   "source": [
    "12 * 12"
   ]
  },
  {
   "cell_type": "code",
   "execution_count": 34,
   "id": "a0f7825e",
   "metadata": {},
   "outputs": [],
   "source": [
    "donuts = 12 * 12"
   ]
  },
  {
   "cell_type": "code",
   "execution_count": 35,
   "id": "668f1b5b",
   "metadata": {},
   "outputs": [
    {
     "data": {
      "text/plain": [
       "144"
      ]
     },
     "execution_count": 35,
     "metadata": {},
     "output_type": "execute_result"
    }
   ],
   "source": [
    "donuts"
   ]
  },
  {
   "cell_type": "code",
   "execution_count": 36,
   "id": "0d38c028",
   "metadata": {},
   "outputs": [],
   "source": [
    "color = \"red\""
   ]
  },
  {
   "cell_type": "code",
   "execution_count": 37,
   "id": "7d7c88cd",
   "metadata": {},
   "outputs": [
    {
     "data": {
      "text/plain": [
       "'red'"
      ]
     },
     "execution_count": 37,
     "metadata": {},
     "output_type": "execute_result"
    }
   ],
   "source": [
    "color"
   ]
  },
  {
   "cell_type": "code",
   "execution_count": 38,
   "id": "bc9e645d",
   "metadata": {},
   "outputs": [],
   "source": [
    "color = \"yellow\""
   ]
  },
  {
   "cell_type": "code",
   "execution_count": 39,
   "id": "1a8ed725",
   "metadata": {},
   "outputs": [
    {
     "data": {
      "text/plain": [
       "'yellow'"
      ]
     },
     "execution_count": 39,
     "metadata": {},
     "output_type": "execute_result"
    }
   ],
   "source": [
    "color"
   ]
  },
  {
   "cell_type": "code",
   "execution_count": 40,
   "id": "cf6b9b43",
   "metadata": {},
   "outputs": [],
   "source": [
    "color = 12"
   ]
  },
  {
   "cell_type": "code",
   "execution_count": 41,
   "id": "c082b5d4",
   "metadata": {},
   "outputs": [
    {
     "data": {
      "text/plain": [
       "12"
      ]
     },
     "execution_count": 41,
     "metadata": {},
     "output_type": "execute_result"
    }
   ],
   "source": [
    "color"
   ]
  },
  {
   "cell_type": "code",
   "execution_count": 42,
   "id": "cbeaa2e5",
   "metadata": {},
   "outputs": [
    {
     "data": {
      "text/plain": [
       "int"
      ]
     },
     "execution_count": 42,
     "metadata": {},
     "output_type": "execute_result"
    }
   ],
   "source": [
    "type(color)"
   ]
  },
  {
   "cell_type": "code",
   "execution_count": 43,
   "id": "e36e18c8",
   "metadata": {},
   "outputs": [],
   "source": [
    "color = \"yellow\""
   ]
  },
  {
   "cell_type": "code",
   "execution_count": 44,
   "id": "eb3f4e01",
   "metadata": {},
   "outputs": [
    {
     "data": {
      "text/plain": [
       "str"
      ]
     },
     "execution_count": 44,
     "metadata": {},
     "output_type": "execute_result"
    }
   ],
   "source": [
    "type(color)"
   ]
  },
  {
   "cell_type": "markdown",
   "id": "8b23720d",
   "metadata": {},
   "source": [
    "## Errors (lỗi)"
   ]
  },
  {
   "cell_type": "code",
   "execution_count": 45,
   "id": "9f7467f4",
   "metadata": {},
   "outputs": [
    {
     "data": {
      "text/plain": [
       "'friendfriendfriendfriendfriend'"
      ]
     },
     "execution_count": 45,
     "metadata": {},
     "output_type": "execute_result"
    }
   ],
   "source": [
    "\"friend\" * 5"
   ]
  },
  {
   "cell_type": "code",
   "execution_count": 48,
   "id": "1f66826f",
   "metadata": {},
   "outputs": [
    {
     "data": {
      "text/plain": [
       "'friend5'"
      ]
     },
     "execution_count": 48,
     "metadata": {},
     "output_type": "execute_result"
    }
   ],
   "source": [
    "\"firne\" * 2\n",
    "\"friend\" + \"5\""
   ]
  },
  {
   "cell_type": "markdown",
   "id": "f08b7eb8",
   "metadata": {},
   "source": [
    "## Kiểu dữ liệu: Booleans"
   ]
  },
  {
   "cell_type": "code",
   "execution_count": 49,
   "id": "0549f7b8",
   "metadata": {},
   "outputs": [
    {
     "data": {
      "text/plain": [
       "True"
      ]
     },
     "execution_count": 49,
     "metadata": {},
     "output_type": "execute_result"
    }
   ],
   "source": [
    "True"
   ]
  },
  {
   "cell_type": "code",
   "execution_count": 50,
   "id": "54acbf2d",
   "metadata": {},
   "outputs": [
    {
     "data": {
      "text/plain": [
       "False"
      ]
     },
     "execution_count": 50,
     "metadata": {},
     "output_type": "execute_result"
    }
   ],
   "source": [
    "False"
   ]
  },
  {
   "cell_type": "code",
   "execution_count": 51,
   "id": "07f608f2",
   "metadata": {},
   "outputs": [
    {
     "data": {
      "text/plain": [
       "'True'"
      ]
     },
     "execution_count": 51,
     "metadata": {},
     "output_type": "execute_result"
    }
   ],
   "source": [
    "\"True\""
   ]
  },
  {
   "cell_type": "code",
   "execution_count": 53,
   "id": "e37b95e3",
   "metadata": {},
   "outputs": [
    {
     "data": {
      "text/plain": [
       "bool"
      ]
     },
     "execution_count": 53,
     "metadata": {},
     "output_type": "execute_result"
    }
   ],
   "source": [
    "type(True)"
   ]
  },
  {
   "cell_type": "markdown",
   "id": "beef6e25",
   "metadata": {},
   "source": [
    "### Các phép toán logic: and, or, not, nor, xor"
   ]
  },
  {
   "cell_type": "code",
   "execution_count": 54,
   "id": "17656e8c",
   "metadata": {},
   "outputs": [
    {
     "data": {
      "text/plain": [
       "True"
      ]
     },
     "execution_count": 54,
     "metadata": {},
     "output_type": "execute_result"
    }
   ],
   "source": [
    "1 == 1 and 2 == 2"
   ]
  },
  {
   "cell_type": "code",
   "execution_count": 55,
   "id": "a01d9855",
   "metadata": {},
   "outputs": [
    {
     "data": {
      "text/plain": [
       "False"
      ]
     },
     "execution_count": 55,
     "metadata": {},
     "output_type": "execute_result"
    }
   ],
   "source": [
    "1 == 1 and 2 == 3"
   ]
  },
  {
   "cell_type": "code",
   "execution_count": 56,
   "id": "bde38b68",
   "metadata": {},
   "outputs": [
    {
     "data": {
      "text/plain": [
       "True"
      ]
     },
     "execution_count": 56,
     "metadata": {},
     "output_type": "execute_result"
    }
   ],
   "source": [
    "1 == 1 or 1 == 2"
   ]
  },
  {
   "cell_type": "code",
   "execution_count": 57,
   "id": "5f71355e",
   "metadata": {},
   "outputs": [
    {
     "data": {
      "text/plain": [
       "False"
      ]
     },
     "execution_count": 57,
     "metadata": {},
     "output_type": "execute_result"
    }
   ],
   "source": [
    "not 1 == 1"
   ]
  },
  {
   "cell_type": "markdown",
   "id": "7808aafb",
   "metadata": {},
   "source": [
    "## Kiểu dữ liệu phức tạp (Cấu trúc dữ liệu) - Python Collections (Kiểu dữ liệu tập hợp)"
   ]
  },
  {
   "cell_type": "markdown",
   "id": "d06e5c2f",
   "metadata": {},
   "source": [
    "### List (danh sách)\n",
    "List là một tập hợp của các đối tượng (a sequence of obejects), có thứ tự và thay đổi được."
   ]
  },
  {
   "cell_type": "code",
   "execution_count": 58,
   "id": "216d89ca",
   "metadata": {},
   "outputs": [],
   "source": [
    "fruits = [\"apple\", \"banana\", \"grape\", \"orange\"]"
   ]
  },
  {
   "cell_type": "code",
   "execution_count": 65,
   "id": "d058f684",
   "metadata": {},
   "outputs": [
    {
     "data": {
      "text/plain": [
       "['apple', 'banana', 'grape', 'orange']"
      ]
     },
     "execution_count": 65,
     "metadata": {},
     "output_type": "execute_result"
    }
   ],
   "source": [
    "fruits"
   ]
  },
  {
   "cell_type": "code",
   "execution_count": 66,
   "id": "fe7c09c5",
   "metadata": {},
   "outputs": [],
   "source": [
    "fruits[1] = \"new banana\""
   ]
  },
  {
   "cell_type": "code",
   "execution_count": 67,
   "id": "d271c373",
   "metadata": {},
   "outputs": [
    {
     "data": {
      "text/plain": [
       "['apple', 'new banana', 'grape', 'orange']"
      ]
     },
     "execution_count": 67,
     "metadata": {},
     "output_type": "execute_result"
    }
   ],
   "source": [
    "fruits"
   ]
  },
  {
   "cell_type": "code",
   "execution_count": 59,
   "id": "a1c0e228",
   "metadata": {},
   "outputs": [],
   "source": [
    "numbers = [1, 17, -4, 9.8]"
   ]
  },
  {
   "cell_type": "code",
   "execution_count": 60,
   "id": "2d88caad",
   "metadata": {},
   "outputs": [],
   "source": [
    "hh = [\"apple\", 3, 2.4, True]"
   ]
  },
  {
   "cell_type": "code",
   "execution_count": 61,
   "id": "38be3693",
   "metadata": {},
   "outputs": [
    {
     "data": {
      "text/plain": [
       "list"
      ]
     },
     "execution_count": 61,
     "metadata": {},
     "output_type": "execute_result"
    }
   ],
   "source": [
    "type(fruits)"
   ]
  },
  {
   "cell_type": "code",
   "execution_count": 62,
   "id": "ac98910c",
   "metadata": {},
   "outputs": [
    {
     "data": {
      "text/plain": [
       "'apple'"
      ]
     },
     "execution_count": 62,
     "metadata": {},
     "output_type": "execute_result"
    }
   ],
   "source": [
    "fruits[0]"
   ]
  },
  {
   "cell_type": "markdown",
   "id": "d49b4c5f",
   "metadata": {},
   "source": [
    "**Bài tập**\n",
    "\n",
    "Tạo ra một list của 04 loại mầu yêu thích của bạn.\n",
    "\n",
    "In ra màn hình màu bạn yêu thích nhất"
   ]
  },
  {
   "cell_type": "code",
   "execution_count": 63,
   "id": "651184e6",
   "metadata": {},
   "outputs": [],
   "source": [
    "thay_trang_fav_colors = [\"Blue\", \"Green\", \"Violet\", \"White\"]"
   ]
  },
  {
   "cell_type": "code",
   "execution_count": 64,
   "id": "82054ebf",
   "metadata": {},
   "outputs": [
    {
     "name": "stdout",
     "output_type": "stream",
     "text": [
      "Green\n"
     ]
    }
   ],
   "source": [
    "print(thay_trang_fav_colors[1])"
   ]
  },
  {
   "cell_type": "markdown",
   "id": "2a92e714",
   "metadata": {},
   "source": [
    "### Tuple (Ống)\n",
    "\n",
    "Tuple là tập hợp của các đối tượng, có thứ tự, không thay đổi được"
   ]
  },
  {
   "cell_type": "code",
   "execution_count": 68,
   "id": "35b69e2a",
   "metadata": {},
   "outputs": [],
   "source": [
    "mytupe = (\"apple\", \"banana\", \"grape\", \"orange\")"
   ]
  },
  {
   "cell_type": "code",
   "execution_count": 69,
   "id": "95c5e36c",
   "metadata": {},
   "outputs": [
    {
     "data": {
      "text/plain": [
       "('apple', 'banana', 'grape', 'orange')"
      ]
     },
     "execution_count": 69,
     "metadata": {},
     "output_type": "execute_result"
    }
   ],
   "source": [
    "mytupe"
   ]
  },
  {
   "cell_type": "code",
   "execution_count": 70,
   "id": "9824a54e",
   "metadata": {},
   "outputs": [
    {
     "data": {
      "text/plain": [
       "'banana'"
      ]
     },
     "execution_count": 70,
     "metadata": {},
     "output_type": "execute_result"
    }
   ],
   "source": [
    "mytupe[1]"
   ]
  },
  {
   "cell_type": "code",
   "execution_count": 71,
   "id": "38f94292",
   "metadata": {
    "scrolled": true
   },
   "outputs": [
    {
     "ename": "TypeError",
     "evalue": "'tuple' object does not support item assignment",
     "output_type": "error",
     "traceback": [
      "\u001b[0;31m---------------------------------------------------------------------------\u001b[0m",
      "\u001b[0;31mTypeError\u001b[0m                                 Traceback (most recent call last)",
      "Cell \u001b[0;32mIn [71], line 1\u001b[0m\n\u001b[0;32m----> 1\u001b[0m \u001b[43mmytupe\u001b[49m\u001b[43m[\u001b[49m\u001b[38;5;241;43m1\u001b[39;49m\u001b[43m]\u001b[49m \u001b[38;5;241m=\u001b[39m \u001b[38;5;124m\"\u001b[39m\u001b[38;5;124mNew banana\u001b[39m\u001b[38;5;124m\"\u001b[39m\n",
      "\u001b[0;31mTypeError\u001b[0m: 'tuple' object does not support item assignment"
     ]
    }
   ],
   "source": [
    "mytupe[1] = \"New banana\""
   ]
  },
  {
   "cell_type": "markdown",
   "id": "2d463780",
   "metadata": {},
   "source": [
    "### Set (tập hợp)\n",
    "\n",
    "- Tập hợp của các đối tượng (duy nhất), không có thứ tự, không thay đổi được*."
   ]
  },
  {
   "cell_type": "code",
   "execution_count": 1,
   "id": "8d626abb",
   "metadata": {},
   "outputs": [],
   "source": [
    "myset = {\"banana\", \"apple\", \"cherry\", \"apple\"}"
   ]
  },
  {
   "cell_type": "code",
   "execution_count": 2,
   "id": "ef356369",
   "metadata": {},
   "outputs": [
    {
     "data": {
      "text/plain": [
       "{'apple', 'banana', 'cherry'}"
      ]
     },
     "execution_count": 2,
     "metadata": {},
     "output_type": "execute_result"
    }
   ],
   "source": [
    "myset"
   ]
  },
  {
   "cell_type": "code",
   "execution_count": 3,
   "id": "68a82592",
   "metadata": {},
   "outputs": [],
   "source": [
    "mylist = [\"banana\", \"apple\", \"cherry\", \"apple\"]"
   ]
  },
  {
   "cell_type": "code",
   "execution_count": 4,
   "id": "3321d3f3",
   "metadata": {},
   "outputs": [],
   "source": [
    "myset2 = set(mylist)"
   ]
  },
  {
   "cell_type": "code",
   "execution_count": 5,
   "id": "6f12f0b7",
   "metadata": {},
   "outputs": [
    {
     "data": {
      "text/plain": [
       "{'apple', 'banana', 'cherry'}"
      ]
     },
     "execution_count": 5,
     "metadata": {},
     "output_type": "execute_result"
    }
   ],
   "source": [
    "myset2"
   ]
  },
  {
   "cell_type": "code",
   "execution_count": 6,
   "id": "c7053e0a",
   "metadata": {},
   "outputs": [],
   "source": [
    "myset.add(\"bonbon\")"
   ]
  },
  {
   "cell_type": "code",
   "execution_count": 7,
   "id": "be08c195",
   "metadata": {},
   "outputs": [
    {
     "data": {
      "text/plain": [
       "{'apple', 'banana', 'bonbon', 'cherry'}"
      ]
     },
     "execution_count": 7,
     "metadata": {},
     "output_type": "execute_result"
    }
   ],
   "source": [
    "myset"
   ]
  },
  {
   "cell_type": "code",
   "execution_count": 8,
   "id": "aa6ba117",
   "metadata": {},
   "outputs": [
    {
     "data": {
      "text/plain": [
       "4"
      ]
     },
     "execution_count": 8,
     "metadata": {},
     "output_type": "execute_result"
    }
   ],
   "source": [
    "len(mylist)"
   ]
  },
  {
   "cell_type": "code",
   "execution_count": 9,
   "id": "baea403c",
   "metadata": {},
   "outputs": [
    {
     "data": {
      "text/plain": [
       "4"
      ]
     },
     "execution_count": 9,
     "metadata": {},
     "output_type": "execute_result"
    }
   ],
   "source": [
    "len(myset)"
   ]
  },
  {
   "cell_type": "code",
   "execution_count": 10,
   "id": "396ed44e",
   "metadata": {},
   "outputs": [
    {
     "data": {
      "text/plain": [
       "3"
      ]
     },
     "execution_count": 10,
     "metadata": {},
     "output_type": "execute_result"
    }
   ],
   "source": [
    "len(myset2)"
   ]
  },
  {
   "cell_type": "markdown",
   "id": "63c963a2",
   "metadata": {},
   "source": [
    "### Bài tập\n",
    "\n",
    "Cho danh sach: student_name = [\"Mai\", \"Trang\", \"Hung\", \"Thao\", \"Mai\", \"Cuc\", \"Thien\", \"Minh\"]\n",
    "\n",
    "Viet doan code kiem tra xem danh sach tren co trung ten hay khong."
   ]
  },
  {
   "cell_type": "code",
   "execution_count": 11,
   "id": "842f4d0b",
   "metadata": {},
   "outputs": [],
   "source": [
    "student_name = [\"Mai\", \"Trang\", \"Hung\", \"Thao\", \"Mai\", \"Cuc\", \"Thien\", \"Minh\"]"
   ]
  },
  {
   "cell_type": "code",
   "execution_count": 12,
   "id": "b2b6a554",
   "metadata": {},
   "outputs": [
    {
     "data": {
      "text/plain": [
       "False"
      ]
     },
     "execution_count": 12,
     "metadata": {},
     "output_type": "execute_result"
    }
   ],
   "source": [
    "len(student_name) == len(set(student_name))"
   ]
  },
  {
   "cell_type": "code",
   "execution_count": 13,
   "id": "7119d1b1",
   "metadata": {},
   "outputs": [
    {
     "name": "stdout",
     "output_type": "stream",
     "text": [
      "Co ten trung\n"
     ]
    }
   ],
   "source": [
    "if len(student_name) == len(set(student_name)):\n",
    "    print(\"Khong co ten trung\")\n",
    "else:\n",
    "    print(\"Co ten trung\")"
   ]
  },
  {
   "cell_type": "markdown",
   "id": "c76384a9",
   "metadata": {},
   "source": [
    "### Dictionary (Từ điển)\n",
    "\n",
    "- Tập hợp của các cặp key và giá trị tương ứng với key đó.\n",
    "\n",
    "- Khai báo: mydict = {\"key1\":\"Value 1\", \"key2\": \"Value 2\", ...}"
   ]
  },
  {
   "cell_type": "code",
   "execution_count": 14,
   "id": "9416bb27",
   "metadata": {},
   "outputs": [],
   "source": [
    "ford_mustang = {\"brand\": \"Ford\", \"model\": \"Mustang\", \"year\": 1964}"
   ]
  },
  {
   "cell_type": "code",
   "execution_count": 15,
   "id": "8924f855",
   "metadata": {},
   "outputs": [
    {
     "data": {
      "text/plain": [
       "'Ford'"
      ]
     },
     "execution_count": 15,
     "metadata": {},
     "output_type": "execute_result"
    }
   ],
   "source": [
    "ford_mustang[\"brand\"]"
   ]
  },
  {
   "cell_type": "markdown",
   "id": "07945c82",
   "metadata": {},
   "source": [
    "## Control Flow (Điều khiển luồng)"
   ]
  },
  {
   "cell_type": "markdown",
   "id": "95b4b7bd",
   "metadata": {},
   "source": [
    "### Condition (Điều kiện)\n",
    "\n",
    "- if statement (Câu lệnh if)"
   ]
  },
  {
   "cell_type": "code",
   "execution_count": 3,
   "id": "8f70e59f",
   "metadata": {},
   "outputs": [],
   "source": [
    "name = \"Trang Mai\""
   ]
  },
  {
   "cell_type": "code",
   "execution_count": 7,
   "id": "18e96487",
   "metadata": {},
   "outputs": [
    {
     "name": "stdout",
     "output_type": "stream",
     "text": [
      "Hello Trang Mai\n"
     ]
    }
   ],
   "source": [
    "if name == \"Trang\":\n",
    "    print(\"Hi Trang\")\n",
    "elif name == \"Trang Mai\":\n",
    "    print(\"Hello Trang Mai\")\n",
    "else:\n",
    "    print(\"This is\", name)"
   ]
  },
  {
   "cell_type": "markdown",
   "id": "e1611d52",
   "metadata": {},
   "source": [
    "### Loops (Vòng lặp)"
   ]
  },
  {
   "cell_type": "markdown",
   "id": "545417a5",
   "metadata": {},
   "source": [
    "#### Counting loops (lặp đếm)\n",
    "- for Statement (câu lệnh for)\n",
    "- Syntax: `for item in collection: do_something`"
   ]
  },
  {
   "cell_type": "code",
   "execution_count": 19,
   "id": "f677ad4f",
   "metadata": {},
   "outputs": [],
   "source": [
    "my_numbers = [1, 2, 4, 5, 6 ,7 ,8, 9]"
   ]
  },
  {
   "cell_type": "code",
   "execution_count": 21,
   "id": "dc864487",
   "metadata": {},
   "outputs": [
    {
     "name": "stdout",
     "output_type": "stream",
     "text": [
      "1\n",
      "8\n",
      "64\n",
      "125\n",
      "216\n",
      "343\n",
      "512\n",
      "729\n"
     ]
    }
   ],
   "source": [
    "for item in my_numbers:\n",
    "    print(item ** 3)"
   ]
  },
  {
   "cell_type": "markdown",
   "id": "8e52950e",
   "metadata": {},
   "source": [
    "#### Conditoinal loops (Lặp điều kiện)\n",
    "- Thực hiện tác vụ nào đấy lặp lại cho đến khi một điều kiện không còn đúng nữa\n",
    "- `while` Statement (Câu lệnh while)"
   ]
  },
  {
   "cell_type": "code",
   "execution_count": 1,
   "id": "2bd8ef5e",
   "metadata": {},
   "outputs": [
    {
     "name": "stdout",
     "output_type": "stream",
     "text": [
      "The count is: 0\n",
      "The count is: 1\n",
      "The count is: 2\n",
      "The count is: 3\n",
      "The count is: 4\n",
      "The count is: 5\n"
     ]
    }
   ],
   "source": [
    "count = 0\n",
    "while count < 10:\n",
    "    print(\"The count is:\", count)\n",
    "    count = count + 1\n",
    "    if count == 6:\n",
    "        break"
   ]
  },
  {
   "cell_type": "markdown",
   "id": "56a817be",
   "metadata": {},
   "source": [
    "## Fuctions (hàm số)"
   ]
  },
  {
   "cell_type": "markdown",
   "id": "8861e9b4",
   "metadata": {},
   "source": [
    "Function's signature (định danh của hàm số)\n",
    "- function name - tên hàm\n",
    "- function parameters - tham số của hàm\n",
    "\n",
    "`my_function(param1, param2, ...)`"
   ]
  },
  {
   "cell_type": "code",
   "execution_count": 8,
   "id": "d4aa6500",
   "metadata": {},
   "outputs": [],
   "source": [
    "def say_hello():\n",
    "    print(\"Hello World\")"
   ]
  },
  {
   "cell_type": "code",
   "execution_count": 9,
   "id": "b1111047",
   "metadata": {},
   "outputs": [
    {
     "name": "stdout",
     "output_type": "stream",
     "text": [
      "Hello World\n"
     ]
    }
   ],
   "source": [
    "say_hello()"
   ]
  },
  {
   "cell_type": "code",
   "execution_count": 10,
   "id": "90b04e2e",
   "metadata": {},
   "outputs": [],
   "source": [
    "def say_hello2(name):\n",
    "    print(\"Hello\", name)"
   ]
  },
  {
   "cell_type": "code",
   "execution_count": 11,
   "id": "abdfeaa0",
   "metadata": {},
   "outputs": [
    {
     "name": "stdout",
     "output_type": "stream",
     "text": [
      "Hello Trang\n"
     ]
    }
   ],
   "source": [
    "say_hello2(\"Trang\")"
   ]
  },
  {
   "cell_type": "markdown",
   "id": "a79578b9",
   "metadata": {},
   "source": [
    "#### Bài tập:\n",
    "\n",
    "1) Viết hàm số (doubles) để nhân đôi một số và in kết quả ra màn hình\n",
    "\n",
    "2) Viết hàm số (multiply) để lấy đầu vào là hai số, nhân hai số đó với nhau và in kết quả ra màn hình"
   ]
  },
  {
   "cell_type": "code",
   "execution_count": 20,
   "id": "1ddbf96a",
   "metadata": {},
   "outputs": [],
   "source": [
    "def doubles(num):\n",
    "    return num * 2"
   ]
  },
  {
   "cell_type": "code",
   "execution_count": 21,
   "id": "da5271ad",
   "metadata": {},
   "outputs": [
    {
     "data": {
      "text/plain": [
       "28"
      ]
     },
     "execution_count": 21,
     "metadata": {},
     "output_type": "execute_result"
    }
   ],
   "source": [
    "doubles(14)"
   ]
  },
  {
   "cell_type": "code",
   "execution_count": 14,
   "id": "ddfcf1f6",
   "metadata": {},
   "outputs": [
    {
     "name": "stdout",
     "output_type": "stream",
     "text": [
      "AbcAbc\n"
     ]
    }
   ],
   "source": [
    "doubles(\"Abc\")"
   ]
  },
  {
   "cell_type": "code",
   "execution_count": 15,
   "id": "7b0afea7",
   "metadata": {},
   "outputs": [],
   "source": [
    "def multiply(num1, num2):\n",
    "    print(num1 * num2)"
   ]
  },
  {
   "cell_type": "code",
   "execution_count": 16,
   "id": "652ceb86",
   "metadata": {},
   "outputs": [
    {
     "name": "stdout",
     "output_type": "stream",
     "text": [
      "20\n"
     ]
    }
   ],
   "source": [
    "multiply(4, 5)"
   ]
  },
  {
   "cell_type": "code",
   "execution_count": 17,
   "id": "000d7a98",
   "metadata": {},
   "outputs": [
    {
     "name": "stdout",
     "output_type": "stream",
     "text": [
      "abcabcabcabcabcabc\n"
     ]
    }
   ],
   "source": [
    "multiply(\"abc\", 6)"
   ]
  },
  {
   "cell_type": "markdown",
   "id": "4fc568c8",
   "metadata": {},
   "source": [
    "#### Fucntion output (đầu ra của ham)"
   ]
  },
  {
   "cell_type": "code",
   "execution_count": 22,
   "id": "7fb083a4",
   "metadata": {},
   "outputs": [],
   "source": [
    "my_num = doubles(14)"
   ]
  },
  {
   "cell_type": "code",
   "execution_count": 23,
   "id": "f1f34f3c",
   "metadata": {},
   "outputs": [
    {
     "data": {
      "text/plain": [
       "28"
      ]
     },
     "execution_count": 23,
     "metadata": {},
     "output_type": "execute_result"
    }
   ],
   "source": [
    "my_num"
   ]
  },
  {
   "cell_type": "markdown",
   "id": "a35f4dee",
   "metadata": {},
   "source": [
    "### Input"
   ]
  },
  {
   "cell_type": "code",
   "execution_count": 24,
   "id": "66972ab5",
   "metadata": {},
   "outputs": [
    {
     "name": "stdout",
     "output_type": "stream",
     "text": [
      "Trang Mai\n"
     ]
    }
   ],
   "source": [
    "name = input()"
   ]
  },
  {
   "cell_type": "code",
   "execution_count": 25,
   "id": "5ae7b701",
   "metadata": {},
   "outputs": [
    {
     "data": {
      "text/plain": [
       "'Trang Mai'"
      ]
     },
     "execution_count": 25,
     "metadata": {},
     "output_type": "execute_result"
    }
   ],
   "source": [
    "name"
   ]
  },
  {
   "cell_type": "code",
   "execution_count": 26,
   "id": "0b907126",
   "metadata": {},
   "outputs": [
    {
     "name": "stdout",
     "output_type": "stream",
     "text": [
      "Nhâp tên của ban:Trang\n"
     ]
    }
   ],
   "source": [
    "name = input(\"Nhâp tên của ban:\")"
   ]
  },
  {
   "cell_type": "code",
   "execution_count": 30,
   "id": "3662beb3",
   "metadata": {},
   "outputs": [
    {
     "name": "stdout",
     "output_type": "stream",
     "text": [
      "Nhập vào một số: 6\n"
     ]
    }
   ],
   "source": [
    "my_number = int(input(\"Nhập vào một số: \"))"
   ]
  },
  {
   "cell_type": "code",
   "execution_count": 31,
   "id": "aad23a27",
   "metadata": {},
   "outputs": [
    {
     "data": {
      "text/plain": [
       "int"
      ]
     },
     "execution_count": 31,
     "metadata": {},
     "output_type": "execute_result"
    }
   ],
   "source": [
    "type(my_number)"
   ]
  },
  {
   "cell_type": "markdown",
   "id": "b4a23474",
   "metadata": {},
   "source": [
    "## Modules (Thư viện)"
   ]
  },
  {
   "cell_type": "code",
   "execution_count": 7,
   "id": "8c558812",
   "metadata": {},
   "outputs": [],
   "source": [
    "import random as rd"
   ]
  },
  {
   "cell_type": "code",
   "execution_count": 8,
   "id": "ae3c565c",
   "metadata": {},
   "outputs": [
    {
     "data": {
      "text/plain": [
       "3"
      ]
     },
     "execution_count": 8,
     "metadata": {},
     "output_type": "execute_result"
    }
   ],
   "source": [
    "rd.randint(1, 6)"
   ]
  },
  {
   "cell_type": "code",
   "execution_count": 11,
   "id": "22022031",
   "metadata": {},
   "outputs": [],
   "source": [
    "from random import randint as rt"
   ]
  },
  {
   "cell_type": "code",
   "execution_count": 12,
   "id": "dadfb8ac",
   "metadata": {},
   "outputs": [
    {
     "data": {
      "text/plain": [
       "6"
      ]
     },
     "execution_count": 12,
     "metadata": {},
     "output_type": "execute_result"
    }
   ],
   "source": [
    "rt(1, 6)"
   ]
  },
  {
   "cell_type": "code",
   "execution_count": 13,
   "id": "923b4a76",
   "metadata": {},
   "outputs": [],
   "source": [
    "import time"
   ]
  },
  {
   "cell_type": "code",
   "execution_count": 14,
   "id": "efcaed2b",
   "metadata": {},
   "outputs": [
    {
     "data": {
      "text/plain": [
       "('+07', '+07')"
      ]
     },
     "execution_count": 14,
     "metadata": {},
     "output_type": "execute_result"
    }
   ],
   "source": [
    "time.tzname"
   ]
  },
  {
   "cell_type": "code",
   "execution_count": 15,
   "id": "74cc5736",
   "metadata": {},
   "outputs": [],
   "source": [
    "import numpy as np"
   ]
  },
  {
   "cell_type": "code",
   "execution_count": 16,
   "id": "05a0674d",
   "metadata": {},
   "outputs": [],
   "source": [
    "import pandas as pd"
   ]
  },
  {
   "cell_type": "code",
   "execution_count": 18,
   "id": "562037c3",
   "metadata": {
    "scrolled": false
   },
   "outputs": [
    {
     "name": "stdout",
     "output_type": "stream",
     "text": [
      "Defaulting to user installation because normal site-packages is not writeable\n",
      "Collecting matplotlib\n",
      "  Downloading matplotlib-3.6.2-cp39-cp39-manylinux_2_17_x86_64.manylinux2014_x86_64.whl (11.8 MB)\n",
      "\u001b[2K     \u001b[91m━━━━━━━━━━\u001b[0m\u001b[90m╺\u001b[0m\u001b[90m━━━━━━━━━━━━━━━━━━━━━━━━━━━━━\u001b[0m \u001b[32m3.0/11.8 MB\u001b[0m \u001b[31m60.6 kB/s\u001b[0m eta \u001b[36m0:02:26\u001b[0m^C\n",
      "\u001b[2K     \u001b[91m━━━━━━━━━━\u001b[0m\u001b[90m╺\u001b[0m\u001b[90m━━━━━━━━━━━━━━━━━━━━━━━━━━━━━\u001b[0m \u001b[32m3.0/11.8 MB\u001b[0m \u001b[31m60.6 kB/s\u001b[0m eta \u001b[36m0:02:26\u001b[0m\n",
      "\u001b[?25h\u001b[31mERROR: Operation cancelled by user\u001b[0m\u001b[31m\n",
      "\u001b[0m"
     ]
    }
   ],
   "source": [
    "!pip install matplotlib"
   ]
  },
  {
   "cell_type": "markdown",
   "id": "15d36da4",
   "metadata": {},
   "source": [
    "## Create a module (Tạo một module)"
   ]
  },
  {
   "cell_type": "code",
   "execution_count": 3,
   "id": "43a88ff2",
   "metadata": {},
   "outputs": [],
   "source": [
    "%reload_ext autoreload\n",
    "%autoreload 2"
   ]
  },
  {
   "cell_type": "code",
   "execution_count": 2,
   "id": "e2f362a1",
   "metadata": {},
   "outputs": [],
   "source": [
    "import simplemod as sm"
   ]
  },
  {
   "cell_type": "code",
   "execution_count": 4,
   "id": "402279dd",
   "metadata": {},
   "outputs": [
    {
     "name": "stdout",
     "output_type": "stream",
     "text": [
      "Kết quả phép chia 10 cho 3 là: 3.33333\n"
     ]
    }
   ],
   "source": [
    "sm.mydiv(10, 3)"
   ]
  },
  {
   "cell_type": "markdown",
   "id": "13125e1b",
   "metadata": {},
   "source": [
    "### Bài tập về nhà\n",
    "\n",
    "Viết một module tên là games có chứa 03 hàm sau:\n",
    "\n",
    "- play_game1:\n",
    "\n",
    "Yêu cầu người dùng nhập vào một số, nếu số đấy trùng với một số bí mất có sẵn trong hàm thì in ra \"Chúc mừng chiến thắng\", nếu không trùng thì in ra \"Chúc may mắn lần sau\".\n",
    "\n",
    "- play_game2:\n",
    "\n",
    "Sinh một số ngẫu nhiên trong khoảng từ 1 đến 20. Yêu cầu người dùng đoán số cho đến khi đoán đúng thì dừng.\n",
    "   \n",
    "   Đoán đúng thì in ra \"Chúc mừng chiến thắng\" và dừng chơi.\n",
    "   \n",
    "   Đoán sai thì yêu cầu nhập lại."
   ]
  },
  {
   "cell_type": "code",
   "execution_count": 1,
   "id": "9ac13f1b",
   "metadata": {},
   "outputs": [],
   "source": [
    "import gamess as gm"
   ]
  },
  {
   "cell_type": "code",
   "execution_count": 7,
   "id": "3bf09cd9",
   "metadata": {
    "scrolled": true
   },
   "outputs": [
    {
     "name": "stdout",
     "output_type": "stream",
     "text": [
      "Nhập vào số bạn đang nghĩ:8\n",
      "Chúc mừng chiến thắng\n"
     ]
    }
   ],
   "source": [
    "gm.play_game1()"
   ]
  },
  {
   "cell_type": "code",
   "execution_count": null,
   "id": "f379fa95",
   "metadata": {},
   "outputs": [],
   "source": [
    "gm.play_game2()"
   ]
  },
  {
   "cell_type": "code",
   "execution_count": 2,
   "id": "f81e2959",
   "metadata": {},
   "outputs": [
    {
     "name": "stdout",
     "output_type": "stream",
     "text": [
      "Nhap vao so ban dang nghi:50\n",
      "So nhap vao qua lon\n",
      "Nhap vao so ban dang nghi:25\n",
      "So nhap vao qua nho\n",
      "Nhap vao so ban dang nghi:37\n",
      "So nhap vao qua nho\n",
      "Nhap vao so ban dang nghi:43\n",
      "So nhap vao qua nho\n",
      "Nhap vao so ban dang nghi:46\n",
      "So nhap vao qua nho\n",
      "Nhap vao so ban dang nghi:48\n",
      "Chuc mung ban da chien thang!!!\n"
     ]
    }
   ],
   "source": [
    "gm.play_game3()"
   ]
  },
  {
   "cell_type": "code",
   "execution_count": null,
   "id": "3fe4eec2",
   "metadata": {},
   "outputs": [],
   "source": []
  }
 ],
 "metadata": {
  "kernelspec": {
   "display_name": "Python 3 (ipykernel)",
   "language": "python",
   "name": "python3"
  },
  "language_info": {
   "codemirror_mode": {
    "name": "ipython",
    "version": 3
   },
   "file_extension": ".py",
   "mimetype": "text/x-python",
   "name": "python",
   "nbconvert_exporter": "python",
   "pygments_lexer": "ipython3",
   "version": "3.9.7"
  }
 },
 "nbformat": 4,
 "nbformat_minor": 5
}
